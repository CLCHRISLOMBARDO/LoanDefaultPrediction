{
 "cells": [
  {
   "cell_type": "code",
   "execution_count": 1,
   "id": "a612c1b9",
   "metadata": {},
   "outputs": [],
   "source": [
    "import pandas as pd\n",
    "import numpy as np \n",
    "import matplotlib.pyplot as plt\n",
    "from sklearn.pipeline import Pipeline\n",
    "from sklearn.preprocessing import StandardScaler , OneHotEncoder, OrdinalEncoder\n",
    "from sklearn.impute import SimpleImputer\n",
    "from utils import OutliersDetector,SqrtTransformer ,LogTransformer,CategTransformer\n",
    "from sklearn.compose import ColumnTransformer\n",
    "from sklearn.ensemble import RandomForestClassifier\n",
    "from sklearn.model_selection import cross_val_score , cross_val_predict,cross_validate\n"
   ]
  },
  {
   "cell_type": "code",
   "execution_count": 2,
   "id": "dee97d0b",
   "metadata": {},
   "outputs": [],
   "source": [
    "df= pd.read_csv(\"data/train.csv\",index_col=\"Id\")\n",
    "df_test = pd.read_csv(\"data/test.csv\",index_col=\"Id\")"
   ]
  },
  {
   "cell_type": "code",
   "execution_count": 3,
   "id": "7478e817",
   "metadata": {},
   "outputs": [
    {
     "data": {
      "text/plain": [
       "Index(['Home Ownership', 'Annual Income', 'Years in current job', 'Tax Liens',\n",
       "       'Number of Open Accounts', 'Years of Credit History',\n",
       "       'Maximum Open Credit', 'Number of Credit Problems',\n",
       "       'Months since last delinquent', 'Bankruptcies', 'Purpose', 'Term',\n",
       "       'Current Loan Amount', 'Current Credit Balance', 'Monthly Debt',\n",
       "       'Credit Score', 'Credit Default'],\n",
       "      dtype='object')"
      ]
     },
     "execution_count": 3,
     "metadata": {},
     "output_type": "execute_result"
    }
   ],
   "source": [
    "df.columns"
   ]
  },
  {
   "cell_type": "code",
   "execution_count": 5,
   "id": "5be1fea3",
   "metadata": {},
   "outputs": [
    {
     "name": "stdout",
     "output_type": "stream",
     "text": [
      "<class 'pandas.core.frame.DataFrame'>\n",
      "Index: 7500 entries, 0 to 7499\n",
      "Data columns (total 17 columns):\n",
      " #   Column                        Non-Null Count  Dtype  \n",
      "---  ------                        --------------  -----  \n",
      " 0   Home Ownership                7500 non-null   object \n",
      " 1   Annual Income                 5943 non-null   float64\n",
      " 2   Years in current job          7129 non-null   object \n",
      " 3   Tax Liens                     7500 non-null   float64\n",
      " 4   Number of Open Accounts       7500 non-null   float64\n",
      " 5   Years of Credit History       7500 non-null   float64\n",
      " 6   Maximum Open Credit           7500 non-null   float64\n",
      " 7   Number of Credit Problems     7500 non-null   float64\n",
      " 8   Months since last delinquent  3419 non-null   float64\n",
      " 9   Bankruptcies                  7486 non-null   float64\n",
      " 10  Purpose                       7500 non-null   object \n",
      " 11  Term                          7500 non-null   object \n",
      " 12  Current Loan Amount           7500 non-null   float64\n",
      " 13  Current Credit Balance        7500 non-null   float64\n",
      " 14  Monthly Debt                  7500 non-null   float64\n",
      " 15  Credit Score                  5943 non-null   float64\n",
      " 16  Credit Default                7500 non-null   int64  \n",
      "dtypes: float64(12), int64(1), object(4)\n",
      "memory usage: 1.0+ MB\n"
     ]
    }
   ],
   "source": [
    "df.info()"
   ]
  },
  {
   "cell_type": "code",
   "execution_count": 4,
   "id": "2460b868",
   "metadata": {},
   "outputs": [],
   "source": [
    "num_cols1=df.drop(columns=[\"Monthly Debt\", \"Years of Credit History\"\n",
    "                           ,\"Current Credit Balance\",\"Annual Income\"]).select_dtypes(include=\"float64\").columns\n",
    "num_cols2=[\"Annual Income\"]\n",
    "num_cols3=[\"Monthly Debt\", \"Years of Credit History\",\"Current Credit Balance\"]\n",
    "\n",
    "cat_cols1 = df.drop(columns=\"Years in current job\").select_dtypes(include=\"object\").columns\n",
    "cat_cols2 = [\"Years in current job\"]\n",
    "\n",
    "num_pipeline1 = Pipeline([\n",
    "    (\"outliers_detection\" ,OutliersDetector() ),\n",
    "    (\"imputer\",SimpleImputer(strategy=\"median\")) ,\n",
    "    (\"scaler\",StandardScaler())\n",
    "])\n",
    "num_pipeline2 = Pipeline([\n",
    "    (\"outliers_detection\" ,OutliersDetector() ),\n",
    "    (\"log_transf\",LogTransformer()),\n",
    "    (\"imputer\",SimpleImputer(strategy=\"median\")) ,\n",
    "    (\"scaler\",StandardScaler())\n",
    "])\n",
    "num_pipeline3 = Pipeline([\n",
    "    (\"outliers_detection\" ,OutliersDetector() ),\n",
    "    (\"log_transf\",SqrtTransformer()),\n",
    "    (\"imputer\",SimpleImputer(strategy=\"median\")) ,\n",
    "    (\"scaler\",StandardScaler())\n",
    "])\n",
    "\n",
    "cat_pipeline1 = Pipeline([\n",
    "    (\"imputer\",SimpleImputer(strategy=\"most_frequent\")),\n",
    "    (\"onehot\",OneHotEncoder())\n",
    "])\n",
    "cat_pipeline2 = Pipeline([\n",
    "    (\"imputer\",SimpleImputer(strategy=\"most_frequent\")),\n",
    "    (\"categTransf\",OrdinalEncoder())\n",
    "])\n",
    "\n",
    "full_pipeline = ColumnTransformer([\n",
    "    (\"num1\" , num_pipeline1 , num_cols1 ),\n",
    "    (\"num2\", num_pipeline2 , num_cols2 ),\n",
    "    (\"num3\",num_pipeline3,num_cols3),\n",
    "    (\"cat1\",cat_pipeline1,cat_cols1),\n",
    "    (\"cat2\",cat_pipeline2 , cat_cols2)\n",
    "])\n",
    "\n"
   ]
  },
  {
   "cell_type": "code",
   "execution_count": 5,
   "id": "60e76db4",
   "metadata": {},
   "outputs": [],
   "source": [
    "X= full_pipeline.fit_transform(df.drop(columns=\"Credit Default\"))\n",
    "y=df[\"Credit Default\"]"
   ]
  },
  {
   "cell_type": "code",
   "execution_count": 6,
   "id": "c282cb42",
   "metadata": {},
   "outputs": [
    {
     "name": "stdout",
     "output_type": "stream",
     "text": [
      "['num1__Tax Liens' 'num1__Number of Open Accounts'\n",
      " 'num1__Maximum Open Credit' 'num1__Number of Credit Problems'\n",
      " 'num1__Months since last delinquent' 'num1__Bankruptcies'\n",
      " 'num1__Current Loan Amount' 'num1__Credit Score' 'num2__Annual Income'\n",
      " 'num3__Monthly Debt' 'num3__Years of Credit History'\n",
      " 'num3__Current Credit Balance' 'cat1__Home Ownership_Have Mortgage'\n",
      " 'cat1__Home Ownership_Home Mortgage' 'cat1__Home Ownership_Own Home'\n",
      " 'cat1__Home Ownership_Rent' 'cat1__Purpose_business loan'\n",
      " 'cat1__Purpose_buy a car' 'cat1__Purpose_buy house'\n",
      " 'cat1__Purpose_debt consolidation' 'cat1__Purpose_educational expenses'\n",
      " 'cat1__Purpose_home improvements' 'cat1__Purpose_major purchase'\n",
      " 'cat1__Purpose_medical bills' 'cat1__Purpose_moving'\n",
      " 'cat1__Purpose_other' 'cat1__Purpose_renewable energy'\n",
      " 'cat1__Purpose_small business' 'cat1__Purpose_take a trip'\n",
      " 'cat1__Purpose_vacation' 'cat1__Purpose_wedding' 'cat1__Term_Long Term'\n",
      " 'cat1__Term_Short Term' 'cat2__Years in current job']\n"
     ]
    }
   ],
   "source": [
    "cols_finales = full_pipeline.get_feature_names_out()\n",
    "print(cols_finales)"
   ]
  },
  {
   "cell_type": "code",
   "execution_count": null,
   "id": "43cf05b4",
   "metadata": {},
   "outputs": [
    {
     "data": {
      "text/plain": [
       "{'fit_time': array([4.89646316, 4.87304735, 4.93070388, 4.82932615, 4.88529658,\n",
       "        4.85261154, 5.34317255, 6.63278103, 6.66279054, 6.64869142]),\n",
       " 'score_time': array([0.2267046 , 0.21570635, 0.22603559, 0.21283984, 0.22491908,\n",
       "        0.22443986, 0.32059836, 0.32464981, 0.32214189, 0.31790471]),\n",
       " 'test_accuracy': array([0.74933333, 0.752     , 0.76133333, 0.728     , 0.76533333,\n",
       "        0.74      , 0.75466667, 0.76266667, 0.75466667, 0.724     ]),\n",
       " 'test_recall': array([0.2464455 , 0.23222749, 0.24170616, 0.18009479, 0.27014218,\n",
       "        0.24170616, 0.24170616, 0.27830189, 0.24056604, 0.19811321]),\n",
       " 'test_precision': array([0.64197531, 0.67123288, 0.72857143, 0.55072464, 0.72151899,\n",
       "        0.59302326, 0.68      , 0.70238095, 0.68918919, 0.53164557]),\n",
       " 'test_f1': array([0.35616438, 0.34507042, 0.36298932, 0.27142857, 0.39310345,\n",
       "        0.34343434, 0.35664336, 0.39864865, 0.35664336, 0.28865979])}"
      ]
     },
     "execution_count": 26,
     "metadata": {},
     "output_type": "execute_result"
    }
   ],
   "source": [
    "model_rfc = RandomForestClassifier(n_estimators=1000,max_depth=100 ,random_state=42,n_jobs=4)\n",
    "scores = cross_validate(model_rfc , X,y,cv=10,scoring=[\"accuracy\",\"recall\",\"precision\",\"f1\"])\n",
    "scores"
   ]
  },
  {
   "cell_type": "code",
   "execution_count": 28,
   "id": "7b469473",
   "metadata": {},
   "outputs": [
    {
     "data": {
      "text/plain": [
       "Credit Default\n",
       "0    0.718267\n",
       "1    0.281733\n",
       "Name: proportion, dtype: float64"
      ]
     },
     "execution_count": 28,
     "metadata": {},
     "output_type": "execute_result"
    }
   ],
   "source": [
    "df[\"Credit Default\"].value_counts(normalize=True)"
   ]
  },
  {
   "cell_type": "code",
   "execution_count": null,
   "id": "21e7e0f4",
   "metadata": {},
   "outputs": [
    {
     "data": {
      "text/plain": [
       "{'fit_time': array([5.03664565, 4.86856914, 4.92555428, 5.04636383, 5.10504961,\n",
       "        5.66578579, 6.76535392, 6.7304225 , 6.66453552, 6.66179156]),\n",
       " 'score_time': array([0.22576523, 0.22745752, 0.25021052, 0.2283411 , 0.23970103,\n",
       "        0.33281898, 0.33094049, 0.32581425, 0.3280139 , 0.31768966]),\n",
       " 'test_accuracy': array([0.74      , 0.74533333, 0.748     , 0.728     , 0.74266667,\n",
       "        0.73866667, 0.744     , 0.748     , 0.74533333, 0.72666667]),\n",
       " 'test_recall': array([0.20853081, 0.20379147, 0.20379147, 0.16113744, 0.21327014,\n",
       "        0.21327014, 0.19905213, 0.20754717, 0.20283019, 0.1745283 ]),\n",
       " 'test_precision': array([0.61111111, 0.65151515, 0.671875  , 0.55737705, 0.625     ,\n",
       "        0.6       , 0.64615385, 0.67692308, 0.66153846, 0.55223881]),\n",
       " 'test_f1': array([0.31095406, 0.31046931, 0.31272727, 0.25      , 0.3180212 ,\n",
       "        0.31468531, 0.30434783, 0.31768953, 0.31046931, 0.26523297])}"
      ]
     },
     "execution_count": 7,
     "metadata": {},
     "output_type": "execute_result"
    }
   ],
   "source": [
    "model_rfc = RandomForestClassifier(n_estimators=1000,max_depth=100 ,random_state=42,n_jobs=4, class_weight=\"balanced\")\n",
    "scores = cross_validate(model_rfc , X,y,cv=10,scoring=[\"accuracy\",\"recall\",\"precision\",\"f1\"])\n",
    "scores"
   ]
  },
  {
   "cell_type": "code",
   "execution_count": 8,
   "id": "cedff05a",
   "metadata": {},
   "outputs": [
    {
     "data": {
      "text/plain": [
       "{'fit_time': array([5.13616562, 5.8677721 , 6.70854354, 5.75165558, 4.94984484,\n",
       "        4.88530159, 4.93238354, 4.97758222, 5.05801392, 5.008883  ]),\n",
       " 'score_time': array([0.22578835, 0.32636857, 0.33294535, 0.22815824, 0.22510982,\n",
       "        0.2274065 , 0.22663355, 0.2350595 , 0.2363925 , 0.23671365]),\n",
       " 'test_accuracy': array([0.74      , 0.74533333, 0.748     , 0.728     , 0.74266667,\n",
       "        0.73866667, 0.744     , 0.748     , 0.74533333, 0.72666667]),\n",
       " 'test_recall': array([0.20853081, 0.20379147, 0.20379147, 0.16113744, 0.21327014,\n",
       "        0.21327014, 0.19905213, 0.20754717, 0.20283019, 0.1745283 ]),\n",
       " 'test_precision': array([0.61111111, 0.65151515, 0.671875  , 0.55737705, 0.625     ,\n",
       "        0.6       , 0.64615385, 0.67692308, 0.66153846, 0.55223881]),\n",
       " 'test_f1': array([0.31095406, 0.31046931, 0.31272727, 0.25      , 0.3180212 ,\n",
       "        0.31468531, 0.30434783, 0.31768953, 0.31046931, 0.26523297])}"
      ]
     },
     "execution_count": 8,
     "metadata": {},
     "output_type": "execute_result"
    }
   ],
   "source": [
    "model_rfc = RandomForestClassifier(n_estimators=1000,max_depth=500 ,random_state=42,n_jobs=4, class_weight=\"balanced\")\n",
    "scores = cross_validate(model_rfc , X,y,cv=10,scoring=[\"accuracy\",\"recall\",\"precision\",\"f1\"])\n",
    "scores"
   ]
  },
  {
   "cell_type": "code",
   "execution_count": 12,
   "id": "70f9fe37",
   "metadata": {},
   "outputs": [],
   "source": [
    "random_forest_model = RandomForestClassifier(n_estimators = 1000 , max_depth=500 , random_state=42,class_weight=\"balanced\")\n",
    "# random_forest_model.fit(X,y)\n",
    "# y_pred = random_forest_model.predict(X)\n"
   ]
  },
  {
   "cell_type": "code",
   "execution_count": 10,
   "id": "b870347e",
   "metadata": {},
   "outputs": [
    {
     "data": {
      "text/plain": [
       "array([0, 1, 0, ..., 0, 0, 0], shape=(7500,))"
      ]
     },
     "execution_count": 10,
     "metadata": {},
     "output_type": "execute_result"
    }
   ],
   "source": [
    "y_pred"
   ]
  },
  {
   "cell_type": "code",
   "execution_count": 11,
   "id": "d2fa9e59",
   "metadata": {},
   "outputs": [
    {
     "data": {
      "text/plain": [
       "array([[5387,    0],\n",
       "       [   0, 2113]])"
      ]
     },
     "execution_count": 11,
     "metadata": {},
     "output_type": "execute_result"
    }
   ],
   "source": [
    "from sklearn.metrics import confusion_matrix\n",
    "confusion_matrix( y , y_pred)"
   ]
  },
  {
   "cell_type": "code",
   "execution_count": 13,
   "id": "b2cc6238",
   "metadata": {},
   "outputs": [
    {
     "data": {
      "text/plain": [
       "array([[0.93 , 0.07 ],\n",
       "       [0.826, 0.174],\n",
       "       [0.933, 0.067],\n",
       "       ...,\n",
       "       [0.913, 0.087],\n",
       "       [0.721, 0.279],\n",
       "       [0.611, 0.389]], shape=(7500, 2))"
      ]
     },
     "execution_count": 13,
     "metadata": {},
     "output_type": "execute_result"
    }
   ],
   "source": [
    "from sklearn.model_selection import cross_val_predict\n",
    "from sklearn.metrics import confusion_matrix, f1_score , recall_score,precision_score , roc_auc_score,roc_curve\n",
    "\n",
    "y_pred = cross_val_predict(random_forest_model , X,y ,cv=10 )\n",
    "y_pred_proba = cross_val_predict(random_forest_model , X,y,cv=10 , method=\"predict_proba\" )\n",
    "y_pred_proba"
   ]
  },
  {
   "cell_type": "code",
   "execution_count": 14,
   "id": "291451a6",
   "metadata": {},
   "outputs": [
    {
     "data": {
      "text/plain": [
       "array([0.07 , 0.174, 0.067, ..., 0.087, 0.279, 0.389], shape=(7500,))"
      ]
     },
     "execution_count": 14,
     "metadata": {},
     "output_type": "execute_result"
    }
   ],
   "source": [
    "y_pred_proba[:,1]"
   ]
  },
  {
   "cell_type": "code",
   "execution_count": 15,
   "id": "b7d1cc85",
   "metadata": {},
   "outputs": [
    {
     "data": {
      "text/plain": [
       "array([0, 0, 0, ..., 0, 0, 0], shape=(7500,))"
      ]
     },
     "execution_count": 15,
     "metadata": {},
     "output_type": "execute_result"
    }
   ],
   "source": [
    "y_pred"
   ]
  },
  {
   "cell_type": "code",
   "execution_count": 17,
   "id": "6d4305f7",
   "metadata": {},
   "outputs": [
    {
     "data": {
      "text/plain": [
       "array([[5135,  252],\n",
       "       [1693,  420]])"
      ]
     },
     "execution_count": 17,
     "metadata": {},
     "output_type": "execute_result"
    }
   ],
   "source": [
    "from sklearn.metrics import confusion_matrix , f1_score , recall_score , precision_score\n",
    "confusion_matrix(y , y_pred)"
   ]
  },
  {
   "cell_type": "code",
   "execution_count": 18,
   "id": "60a6f387",
   "metadata": {},
   "outputs": [
    {
     "data": {
      "text/plain": [
       "0.19876952200662565"
      ]
     },
     "execution_count": 18,
     "metadata": {},
     "output_type": "execute_result"
    }
   ],
   "source": [
    "recall_score(y , y_pred )"
   ]
  },
  {
   "cell_type": "code",
   "execution_count": 19,
   "id": "d2e4d810",
   "metadata": {},
   "outputs": [
    {
     "data": {
      "text/plain": [
       "0.625"
      ]
     },
     "execution_count": 19,
     "metadata": {},
     "output_type": "execute_result"
    }
   ],
   "source": [
    "precision_score(y,y_pred)"
   ]
  },
  {
   "cell_type": "code",
   "execution_count": 20,
   "id": "8518eefc",
   "metadata": {},
   "outputs": [],
   "source": [
    "pipe = Pipeline([\n",
    "    (\"preprocess\",full_pipeline),\n",
    "    (\"model\",RandomForestClassifier(n_estimators=1000 , max_depth=50 ,class_weight=\"balanced\",random_state=42,n_jobs=4))\n",
    "])\n",
    "scores = cross_validate(pipe , df.drop(columns=\"Credit Default\") ,df[\"Credit Default\"] ,cv=10 ,scoring=[\"accuracy\",\"recall\",\"precision\",\"f1\"])"
   ]
  },
  {
   "cell_type": "code",
   "execution_count": 21,
   "id": "37112340",
   "metadata": {},
   "outputs": [
    {
     "data": {
      "text/plain": [
       "{'fit_time': array([5.03488755, 5.61258888, 6.72414422, 6.71000433, 6.82548404,\n",
       "        6.8488338 , 6.92150903, 6.95208478, 7.16391206, 6.93116713]),\n",
       " 'score_time': array([0.26973176, 0.34885359, 0.35339022, 0.37674522, 0.35174823,\n",
       "        0.35396767, 0.35354519, 0.35800576, 0.35661745, 0.34111524]),\n",
       " 'test_accuracy': array([0.736     , 0.752     , 0.74933333, 0.72133333, 0.744     ,\n",
       "        0.74133333, 0.75066667, 0.75066667, 0.748     , 0.73066667]),\n",
       " 'test_recall': array([0.19905213, 0.21327014, 0.20379147, 0.13744076, 0.21327014,\n",
       "        0.21327014, 0.21327014, 0.22169811, 0.20754717, 0.18867925]),\n",
       " 'test_precision': array([0.5915493 , 0.69230769, 0.68253968, 0.51785714, 0.63380282,\n",
       "        0.61643836, 0.68181818, 0.68115942, 0.67692308, 0.57142857]),\n",
       " 'test_f1': array([0.29787234, 0.32608696, 0.31386861, 0.21722846, 0.31914894,\n",
       "        0.31690141, 0.32490975, 0.33451957, 0.31768953, 0.28368794])}"
      ]
     },
     "execution_count": 21,
     "metadata": {},
     "output_type": "execute_result"
    }
   ],
   "source": [
    "scores"
   ]
  },
  {
   "cell_type": "code",
   "execution_count": 23,
   "id": "535ba99e",
   "metadata": {},
   "outputs": [
    {
     "name": "stdout",
     "output_type": "stream",
     "text": [
      "score_fit_time : 6.572461581230163\n",
      "score_score_time : 0.34637203216552737\n",
      "score_test_accuracy : 0.7424000000000001\n",
      "score_test_recall : 0.20112894572118395\n",
      "score_test_precision : 0.6345824237004642\n",
      "score_test_f1 : 0.30519135133208375\n"
     ]
    }
   ],
   "source": [
    "for k in scores.keys():\n",
    "    print(f\"score_{k} : {np.mean(scores[k])}\")"
   ]
  },
  {
   "cell_type": "code",
   "execution_count": 25,
   "id": "1369471e",
   "metadata": {},
   "outputs": [],
   "source": [
    "from sklearn.metrics import roc_curve\n",
    "from sklearn.model_selection import cross_val_predict\n",
    "y_pred_proba = cross_val_predict(pipe , df.drop(columns=\"Credit Default\") , df[\"Credit Default\"] , cv=10 , method=\"predict_proba\")"
   ]
  },
  {
   "cell_type": "code",
   "execution_count": 28,
   "id": "b33c5261",
   "metadata": {},
   "outputs": [],
   "source": [
    "fpr , tpr,threshold = roc_curve(df[\"Credit Default\"] , y_pred_proba[:,1])\n"
   ]
  },
  {
   "cell_type": "code",
   "execution_count": 31,
   "id": "5ddfb5e7",
   "metadata": {},
   "outputs": [
    {
     "data": {
      "text/plain": [
       "array([0. , 0.1, 0.2, 0.3, 0.4, 0.5, 0.6, 0.7, 0.8, 0.9, 1. ])"
      ]
     },
     "execution_count": 31,
     "metadata": {},
     "output_type": "execute_result"
    }
   ],
   "source": [
    "np.arange(0,1.1,0.1)"
   ]
  },
  {
   "cell_type": "code",
   "execution_count": null,
   "id": "e9f2bc7c",
   "metadata": {},
   "outputs": [],
   "source": [
    "param_grid = [\n",
    "    {\"n_estimators\":[50,100,300,500] , \"max_depth\":[None, 10,20,50],\"min_sample_split\":[]}\n",
    "]"
   ]
  },
  {
   "cell_type": "code",
   "execution_count": null,
   "id": "74970167",
   "metadata": {},
   "outputs": [
    {
     "ename": "AttributeError",
     "evalue": "module 'matplotlib.pyplot' has no attribute 'label'",
     "output_type": "error",
     "traceback": [
      "\u001b[31m---------------------------------------------------------------------------\u001b[39m",
      "\u001b[31mAttributeError\u001b[39m                            Traceback (most recent call last)",
      "\u001b[36mCell\u001b[39m\u001b[36m \u001b[39m\u001b[32mIn[35]\u001b[39m\u001b[32m, line 3\u001b[39m\n\u001b[32m      1\u001b[39m plt.plot(fpr , tpr )\n\u001b[32m      2\u001b[39m plt.plot(np.arange(\u001b[32m0\u001b[39m,\u001b[32m1.1\u001b[39m,\u001b[32m0.1\u001b[39m) , np.arange(\u001b[32m0\u001b[39m,\u001b[32m1.1\u001b[39m,\u001b[32m0.1\u001b[39m) , c=\u001b[33m\"\u001b[39m\u001b[33mred\u001b[39m\u001b[33m\"\u001b[39m,linestyle=\u001b[33m\"\u001b[39m\u001b[33m--\u001b[39m\u001b[33m\"\u001b[39m,label=\u001b[33m\"\u001b[39m\u001b[33mmodelo azar\u001b[39m\u001b[33m\"\u001b[39m)\n\u001b[32m----> \u001b[39m\u001b[32m3\u001b[39m \u001b[43mplt\u001b[49m\u001b[43m.\u001b[49m\u001b[43mlabel\u001b[49m(\u001b[38;5;28;01mTrue\u001b[39;00m)\n\u001b[32m      4\u001b[39m plt.show()\n",
      "\u001b[31mAttributeError\u001b[39m: module 'matplotlib.pyplot' has no attribute 'label'"
     ]
    },
    {
     "data": {
      "image/png": "[encoded data removed]",
      "text/plain": [
       "<Figure size 640x480 with 1 Axes>"
      ]
     },
     "metadata": {},
     "output_type": "display_data"
    }
   ],
   "source": [
    "from sklearn.metrics import roc_auc_score\n",
    "\n",
    "plt.plot(fpr , tpr )\n",
    "plt.plot(np.arange(0,1.1,0.1) , np.arange(0,1.1,0.1) , c=\"red\",linestyle=\"--\")\n",
    "plt.show()"
   ]
  },
  {
   "cell_type": "code",
   "execution_count": null,
   "id": "8162e32d",
   "metadata": {},
   "outputs": [],
   "source": []
  }
 ],
 "metadata": {
  "kernelspec": {
   "display_name": "env_ldp",
   "language": "python",
   "name": "python3"
  },
  "language_info": {
   "codemirror_mode": {
    "name": "ipython",
    "version": 3
   },
   "file_extension": ".py",
   "mimetype": "text/x-python",
   "name": "python",
   "nbconvert_exporter": "python",
   "pygments_lexer": "ipython3",
   "version": "3.11.9"
  }
 },
 "nbformat": 4,
 "nbformat_minor": 5
}
